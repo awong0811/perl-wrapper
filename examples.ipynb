{
 "cells": [
  {
   "cell_type": "markdown",
   "metadata": {},
   "source": [
    "# Python Wrapper for Perl"
   ]
  },
  {
   "cell_type": "markdown",
   "metadata": {},
   "source": [
    "## get_num Example\n",
    "Perl function returns an integer and prints to stdout. Because we're printing the output to stdout, the output will always be a string. If we want it to be an int, we will have to try something different."
   ]
  },
  {
   "cell_type": "code",
   "execution_count": 4,
   "metadata": {},
   "outputs": [
    {
     "name": "stdout",
     "output_type": "stream",
     "text": [
      "42\n",
      "<class 'str'>\n"
     ]
    }
   ],
   "source": [
    "from test import get_num\n",
    "num = get_num()\n",
    "print(num)\n",
    "print(type(num))"
   ]
  },
  {
   "cell_type": "markdown",
   "metadata": {},
   "source": [
    "Perl function returns an integer and prints to json instead. When we convert the output from json to a python variable in the wrapper, the output type is processed correctly. In general, it's easier if we just print to json every time. (We're using a different wrapper function that uses the same function from the Perl module. Only difference is this function prints to json instead of directly printing to stdout.)"
   ]
  },
  {
   "cell_type": "code",
   "execution_count": 3,
   "metadata": {},
   "outputs": [
    {
     "name": "stdout",
     "output_type": "stream",
     "text": [
      "42\n",
      "<class 'int'>\n"
     ]
    }
   ],
   "source": [
    "from test import get_num2\n",
    "num2 = get_num2()\n",
    "print(num2)\n",
    "print(type(num2))"
   ]
  },
  {
   "cell_type": "markdown",
   "metadata": {},
   "source": [
    "## get_array Example"
   ]
  },
  {
   "cell_type": "markdown",
   "metadata": {},
   "source": [
    "Perl function returns an array of strings. Since we're printing to stdout, the python wrapper reads in strings. If we are meant to read in ints or floats, we would need to perform additional type conversions."
   ]
  },
  {
   "cell_type": "code",
   "execution_count": 2,
   "metadata": {},
   "outputs": [
    {
     "name": "stdout",
     "output_type": "stream",
     "text": [
      "['apple', 'banana', 'cherry']\n"
     ]
    }
   ],
   "source": [
    "from test import get_array\n",
    "array = get_array()\n",
    "print(array)"
   ]
  },
  {
   "cell_type": "markdown",
   "metadata": {},
   "source": [
    "We're going to print to json again. This allows us to handle types other than strings correctly. The output should be the exact same for this example. (Again, this is a different wrapper function that uses the same Perl function except it prints to json.)"
   ]
  },
  {
   "cell_type": "code",
   "execution_count": 1,
   "metadata": {},
   "outputs": [
    {
     "name": "stdout",
     "output_type": "stream",
     "text": [
      "['apple', 'banana', 'cherry']\n"
     ]
    }
   ],
   "source": [
    "from test import get_array2\n",
    "array = get_array2()\n",
    "print(array)"
   ]
  },
  {
   "cell_type": "markdown",
   "metadata": {},
   "source": [
    "# get_list Example"
   ]
  },
  {
   "cell_type": "markdown",
   "metadata": {},
   "source": [
    "What happens when you have different types in the same array/list? Both Perl and Python allow for type mixing in their arrays/lists respectively. This Perl function returns two ints and two strings in the same array. By printing to json, when we convert it back to a Python list in the wrapper, the types are handled correctly."
   ]
  },
  {
   "cell_type": "code",
   "execution_count": 5,
   "metadata": {},
   "outputs": [
    {
     "name": "stdout",
     "output_type": "stream",
     "text": [
      "[1, 29, 'red', 'blue']\n"
     ]
    }
   ],
   "source": [
    "from test import get_list\n",
    "list = get_list()\n",
    "print(list)"
   ]
  },
  {
   "cell_type": "markdown",
   "metadata": {},
   "source": [
    "## custom_list Example"
   ]
  },
  {
   "cell_type": "markdown",
   "metadata": {},
   "source": [
    "Here, we pass in inputs to the python wrapper function to be used by the Perl function. Then, the Perl function returns the inputs as an array. We process the returned array by printing to json and converting it back to a Python list."
   ]
  },
  {
   "cell_type": "code",
   "execution_count": 9,
   "metadata": {},
   "outputs": [
    {
     "name": "stdout",
     "output_type": "stream",
     "text": [
      "['list', 'with', 4, 'inputs']\n"
     ]
    }
   ],
   "source": [
    "from test import custom_list\n",
    "clist = custom_list(4, 'list', 'with', 'inputs')\n",
    "print(clist)"
   ]
  },
  {
   "cell_type": "markdown",
   "metadata": {},
   "source": [
    "## get_dictionary Example"
   ]
  },
  {
   "cell_type": "markdown",
   "metadata": {},
   "source": [
    "The last data type we need to use is a dictionary. Both Perl and Python support dictionaries but it's not possible to write a wrapper function that handles the output through stdout if the output is a dictionary or contains a dictionary. We will strictly be using json for this data type."
   ]
  },
  {
   "cell_type": "code",
   "execution_count": 10,
   "metadata": {},
   "outputs": [
    {
     "name": "stdout",
     "output_type": "stream",
     "text": [
      "{'date': 'A sweet fruit that is typically brown', 'apple': 'A fruit that is usually red, green, or yellow', 'banana': 'A long, curved fruit that is yellow when ripe', 'carrot': 'A root vegetable, usually orange in color'}\n"
     ]
    }
   ],
   "source": [
    "from test import get_dictionary\n",
    "dict = get_dictionary()\n",
    "print(dict)"
   ]
  },
  {
   "cell_type": "markdown",
   "metadata": {},
   "source": [
    "You can access individual items by using the keys and square brackets same way you would for lists and arrays."
   ]
  },
  {
   "cell_type": "code",
   "execution_count": 11,
   "metadata": {},
   "outputs": [
    {
     "name": "stdout",
     "output_type": "stream",
     "text": [
      "A fruit that is usually red, green, or yellow\n",
      "A long, curved fruit that is yellow when ripe\n",
      "A root vegetable, usually orange in color\n",
      "A sweet fruit that is typically brown\n"
     ]
    }
   ],
   "source": [
    "print(dict['apple'])\n",
    "print(dict['banana'])\n",
    "print(dict['carrot'])\n",
    "print(dict['date'])"
   ]
  },
  {
   "cell_type": "markdown",
   "metadata": {},
   "source": [
    "# nested_dictionary Example"
   ]
  },
  {
   "cell_type": "markdown",
   "metadata": {},
   "source": [
    "If you have a nested dictionary, you would handle it the exact same way you would for the regular dictionary. "
   ]
  },
  {
   "cell_type": "code",
   "execution_count": 12,
   "metadata": {},
   "outputs": [
    {
     "name": "stdout",
     "output_type": "stream",
     "text": [
      "{'vegetables': {'broccoli': 'A green vegetable that resembles a tree', 'carrot': 'A root vegetable, usually orange in color'}, 'fruits': {'apple': 'A fruit that is usually red, green, or yellow', 'banana': 'A long, curved fruit that is yellow when ripe'}}\n"
     ]
    }
   ],
   "source": [
    "from test import nested_dictionary\n",
    "nested_dict = nested_dictionary()\n",
    "print(nested_dict)"
   ]
  },
  {
   "cell_type": "markdown",
   "metadata": {},
   "source": [
    "There are two levels to this dictionary. This nested dictionary has keys that differentiate between vegetables and fruits.  "
   ]
  },
  {
   "cell_type": "code",
   "execution_count": 14,
   "metadata": {},
   "outputs": [
    {
     "name": "stdout",
     "output_type": "stream",
     "text": [
      "{'apple': 'A fruit that is usually red, green, or yellow', 'banana': 'A long, curved fruit that is yellow when ripe'}\n",
      "{'broccoli': 'A green vegetable that resembles a tree', 'carrot': 'A root vegetable, usually orange in color'}\n",
      "A fruit that is usually red, green, or yellow\n",
      "A long, curved fruit that is yellow when ripe\n",
      "A green vegetable that resembles a tree\n",
      "A root vegetable, usually orange in color\n"
     ]
    }
   ],
   "source": [
    "print(nested_dict['fruits'])\n",
    "print(nested_dict['vegetables'])\n",
    "print(nested_dict['fruits']['apple'])\n",
    "print(nested_dict['fruits']['banana'])\n",
    "print(nested_dict['vegetables']['broccoli'])\n",
    "print(nested_dict['vegetables']['carrot'])"
   ]
  },
  {
   "cell_type": "markdown",
   "metadata": {},
   "source": [
    "## combining everything"
   ]
  },
  {
   "cell_type": "markdown",
   "metadata": {},
   "source": [
    "For this last example, the Perl function returns an array. The first two elements of the array are arrays, while the last element is a nested dictionary."
   ]
  },
  {
   "cell_type": "code",
   "execution_count": 15,
   "metadata": {},
   "outputs": [
    {
     "name": "stdout",
     "output_type": "stream",
     "text": [
      "['apple', 'banana', 'cherry']\n"
     ]
    }
   ],
   "source": [
    "from test import arrays_and_dictionaries\n",
    "ad = arrays_and_dictionaries()\n",
    "print(ad[0])"
   ]
  },
  {
   "cell_type": "code",
   "execution_count": 16,
   "metadata": {},
   "outputs": [
    {
     "name": "stdout",
     "output_type": "stream",
     "text": [
      "[1, 29, 'red', 'blue']\n"
     ]
    }
   ],
   "source": [
    "print(ad[1])"
   ]
  },
  {
   "cell_type": "code",
   "execution_count": 17,
   "metadata": {},
   "outputs": [
    {
     "name": "stdout",
     "output_type": "stream",
     "text": [
      "{'vegetables': {'carrot': 'A root vegetable, usually orange in color', 'broccoli': 'A green vegetable that resembles a tree'}, 'fruits': {'apple': 'A fruit that is usually red, green, or yellow', 'banana': 'A long, curved fruit that is yellow when ripe'}}\n"
     ]
    }
   ],
   "source": [
    "print(ad[2])"
   ]
  },
  {
   "cell_type": "code",
   "execution_count": null,
   "metadata": {},
   "outputs": [],
   "source": []
  }
 ],
 "metadata": {
  "kernelspec": {
   "display_name": "darwin",
   "language": "python",
   "name": "python3"
  },
  "language_info": {
   "codemirror_mode": {
    "name": "ipython",
    "version": 3
   },
   "file_extension": ".py",
   "mimetype": "text/x-python",
   "name": "python",
   "nbconvert_exporter": "python",
   "pygments_lexer": "ipython3",
   "version": "3.9.18"
  }
 },
 "nbformat": 4,
 "nbformat_minor": 2
}
